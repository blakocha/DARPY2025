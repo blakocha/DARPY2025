{
 "cells": [
  {
   "cell_type": "markdown",
   "metadata": {},
   "source": [
    "# Descriptive statistics in Python\n",
    "\n",
    "## Distribution of a single variable\n",
    "\n",
    "### Measures of central tendency and positional measures\n",
    "\n",
    "- arithmetic mean\n",
    "- median\n",
    "- geometric mean (useful for calculation of average rate of growth)\n",
    "- trimmed mean\n",
    "\n",
    "- positional measures - quantiles: quartiles, deciles, percentiles\n",
    "\n",
    "### Measures of variability / dispersion\n",
    "\n",
    "- variance, standard deviation\n",
    "- IQR (interquartile range)\n",
    "- mean absolute difference\n",
    "- coefficient of variation: standard deviation divided by the mean\n",
    "\n",
    "### Measures of shape of the distribution\n",
    "\n",
    "- skewness (measure of asymmetry)\n",
    "- kurtosis (measure of tailedness, extremity of tails)\n"
   ]
  },
  {
   "cell_type": "code",
   "execution_count": null,
   "metadata": {
    "vscode": {
     "languageId": "plaintext"
    }
   },
   "outputs": [],
   "source": [
    "import pandas as pd\n",
    "\n",
    "csv_url = \"https://docs.google.com/spreadsheets/d/1H6b5mkq68MeRQyP0Cr2weCpVkzmpR0c2Oi7p147o2a0/export?format=csv\"\n",
    "\n",
    "# Read the sheet into a DataFrame\n",
    "d = pd.read_csv(csv_url)\n",
    "\n",
    "print(d.head())"
   ]
  }
 ],
 "metadata": {
  "language_info": {
   "name": "python"
  }
 },
 "nbformat": 4,
 "nbformat_minor": 2
}
