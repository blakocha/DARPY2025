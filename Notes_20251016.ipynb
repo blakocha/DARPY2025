{
 "cells": [
  {
   "cell_type": "markdown",
   "metadata": {},
   "source": [
    "# Descriptive statistics in Python\n",
    "\n",
    "## Distribution of a single variable\n",
    "\n",
    "### Measures of central tendency and positional measures\n",
    "\n",
    "- arithmetic mean\n",
    "- median\n",
    "- geometric mean (useful for calculation of average rate of growth)\n",
    "- trimmed mean\n",
    "\n",
    "- positional measures - quantiles: quartiles, deciles, percentiles\n",
    "\n",
    "### Measures of variability / dispersion\n",
    "\n",
    "- variance, standard deviation\n",
    "- IQR (interquartile range)\n",
    "- mean absolute difference\n",
    "- coefficient of variation: standard deviation divided by the mean\n",
    "\n",
    "### Measures of shape of the distribution\n",
    "\n",
    "- skewness (measure of asymmetry)\n",
    "- kurtosis (measure of tailedness, extremity of tails)\n"
   ]
  },
  {
   "cell_type": "code",
   "execution_count": 1,
   "metadata": {},
   "outputs": [
    {
     "name": "stdout",
     "output_type": "stream",
     "text": [
      "   height  handedness  right_hand_span  left_hand_span  head_circ eye_colour  \\\n",
      "0     159        0.88             19.0            19.0       54.0       Blue   \n",
      "1     160       -1.00             19.0            20.0       57.0      Green   \n",
      "2     161        0.79             17.0            16.5       57.0      hazel   \n",
      "3     162        0.79             16.0            16.0       57.0       gray   \n",
      "4     162        0.79             16.0            16.0       54.0      Brown   \n",
      "\n",
      "   gender  siblings  movies  soda   bedtime       fb_freq  fb_friends  \\\n",
      "0  Female         2     3.0   7.0  02:00:00    once a day       135.0   \n",
      "1  Female         2     0.5   2.0  04:30:00             0         1.0   \n",
      "2  Female         3     3.0   2.0  23:50:00   once a week       354.0   \n",
      "3  Female         2     0.0   2.0  23:10:00  almost never       192.0   \n",
      "4  Female         2     1.0   3.0  00:00:00         never         1.0   \n",
      "\n",
      "                  stat_likert  \n",
      "0  Neither agree nor disagree  \n",
      "1              Somewhat agree  \n",
      "2              Somewhat agree  \n",
      "3  Neither agree nor disagree  \n",
      "4  Neither agree nor disagree  \n"
     ]
    }
   ],
   "source": [
    "import pandas as pd\n",
    "\n",
    "csv_url = \"https://docs.google.com/spreadsheets/d/1H6b5mkq68MeRQyP0Cr2weCpVkzmpR0c2Oi7p147o2a0/export?format=csv\"\n",
    "\n",
    "# Read the sheet into a DataFrame\n",
    "d = pd.read_csv(csv_url)\n",
    "\n",
    "print(d.head())"
   ]
  }
 ],
 "metadata": {
  "kernelspec": {
   "display_name": "Python 3",
   "language": "python",
   "name": "python3"
  },
  "language_info": {
   "codemirror_mode": {
    "name": "ipython",
    "version": 3
   },
   "file_extension": ".py",
   "mimetype": "text/x-python",
   "name": "python",
   "nbconvert_exporter": "python",
   "pygments_lexer": "ipython3",
   "version": "3.11.5"
  }
 },
 "nbformat": 4,
 "nbformat_minor": 2
}
