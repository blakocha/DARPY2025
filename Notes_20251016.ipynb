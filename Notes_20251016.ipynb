{
 "cells": [
  {
   "cell_type": "markdown",
   "metadata": {},
   "source": [
    "# Descriptive statistics in Python\n",
    "\n",
    "## Distribution of a single variable\n",
    "\n",
    "### Measures of central tendency and positional measures\n",
    "\n",
    "- arithmetic mean\n",
    "- median\n",
    "- geometric mean (useful for calculation of average rate of growth)\n",
    "- trimmed mean\n",
    "- positional measures - quantiles: quartiles, deciles, percentiles\n",
    "\n",
    "### Measures of variability / dispersion\n",
    "\n",
    "- variance, standard deviation\n",
    "- IQR (interquartile range)\n",
    "- mean absolute difference\n",
    "- coefficient of variation: standard deviation divided by the mean\n",
    "\n",
    "### Measures of shape of the distribution\n",
    "\n",
    "- skewness (measure of asymmetry)\n",
    "- kurtosis (measure of tailedness, extremity of tails)\n"
   ]
  },
  {
   "cell_type": "code",
   "execution_count": 4,
   "metadata": {},
   "outputs": [
    {
     "name": "stdout",
     "output_type": "stream",
     "text": [
      "   height  handedness  right_hand_span  left_hand_span  head_circ eye_colour  \\\n",
      "0     159        0.88             19.0            19.0       54.0       Blue   \n",
      "1     160       -1.00             19.0            20.0       57.0      Green   \n",
      "2     161        0.79             17.0            16.5       57.0      hazel   \n",
      "3     162        0.79             16.0            16.0       57.0       gray   \n",
      "4     162        0.79             16.0            16.0       54.0      Brown   \n",
      "\n",
      "   gender  siblings  movies  soda   bedtime       fb_freq  fb_friends  \\\n",
      "0  Female         2     3.0   7.0  02:00:00    once a day       135.0   \n",
      "1  Female         2     0.5   2.0  04:30:00             0         1.0   \n",
      "2  Female         3     3.0   2.0  23:50:00   once a week       354.0   \n",
      "3  Female         2     0.0   2.0  23:10:00  almost never       192.0   \n",
      "4  Female         2     1.0   3.0  00:00:00         never         1.0   \n",
      "\n",
      "                  stat_likert  \n",
      "0  Neither agree nor disagree  \n",
      "1              Somewhat agree  \n",
      "2              Somewhat agree  \n",
      "3  Neither agree nor disagree  \n",
      "4  Neither agree nor disagree  \n"
     ]
    }
   ],
   "source": [
    "import pandas as pd\n",
    "\n",
    "csv_url = \"https://docs.google.com/spreadsheets/d/1H6b5mkq68MeRQyP0Cr2weCpVkzmpR0c2Oi7p147o2a0/export?format=csv\"\n",
    "\n",
    "# Read the sheet into a DataFrame\n",
    "d = pd.read_csv(csv_url)\n",
    "\n",
    "print(d.head())"
   ]
  },
  {
   "cell_type": "code",
   "execution_count": 9,
   "metadata": {},
   "outputs": [
    {
     "name": "stdout",
     "output_type": "stream",
     "text": [
      "Average height: \n",
      "176.21666666666667\n",
      "Average number of facebook connections: \n",
      "289.9642857142857\n"
     ]
    }
   ],
   "source": [
    "import numpy as np\n",
    "# arithmetic mean\n",
    "print(\"Average height: \")\n",
    "print(np.mean(d['height']))\n",
    "print(\"Average number of facebook connections: \")\n",
    "print(np.mean(d['fb_friends']))"
   ]
  },
  {
   "cell_type": "code",
   "execution_count": 14,
   "metadata": {},
   "outputs": [
    {
     "name": "stdout",
     "output_type": "stream",
     "text": [
      "Median height: \n",
      "176.0\n",
      "Median number of Facebook connections: \n",
      "nan\n",
      "Median number of Facebook connections (NAs excluded): \n",
      "222.0\n",
      "Median number of Facebook connections (NAs excluded -- method 2): \n",
      "222.0\n"
     ]
    }
   ],
   "source": [
    "# median\n",
    "print(\"Median height: \")\n",
    "print(np.median(d['height']))\n",
    "print(\"Median number of Facebook connections: \")\n",
    "print(np.median(d['fb_friends']))\n",
    "print(\"Median number of Facebook connections (NAs excluded): \")\n",
    "print(np.nanmedian(d['fb_friends']))\n",
    "print(\"Median number of Facebook connections (NAs excluded -- method 2): \")\n",
    "print(np.median(d['fb_friends'].dropna()))\n"
   ]
  },
  {
   "cell_type": "markdown",
   "metadata": {},
   "source": [
    "Geometric mean:\n",
    "\n",
    "$$\\left(\\prod_{i=1}^n{x_i}\\right)^{1/n}$$\n",
    "\n",
    "Using (natural) logarithms ($\\exp(x)$ means $e^x$):\n",
    "\n",
    "$$\\exp\\left(\\frac{1}{n}\\left(\\sum_{i=1}^n{\\ln(x_i)}\\right)\\right)$$\n",
    "\n"
   ]
  },
  {
   "cell_type": "code",
   "execution_count": 25,
   "metadata": {},
   "outputs": [
    {
     "name": "stdout",
     "output_type": "stream",
     "text": [
      "Geometric mean for the height:\n",
      "175.92789854951246\n",
      "Geometric mean for the number of facebook friends (only positive numbers can go to the geometric mean):\n",
      "127.79432124392397\n"
     ]
    }
   ],
   "source": [
    "print(\"Geometric mean for the height:\")\n",
    "print(np.exp(np.mean(np.log(d['height']))))\n",
    "print(\"Geometric mean for the number of facebook friends (only positive numbers can go to the geometric mean):\")\n",
    "print(np.exp(np.mean(np.log(d['fb_friends'][d['fb_friends']>0].dropna()))))"
   ]
  },
  {
   "cell_type": "code",
   "execution_count": 31,
   "metadata": {},
   "outputs": [
    {
     "name": "stdout",
     "output_type": "stream",
     "text": [
      "5.0\n"
     ]
    },
    {
     "data": {
      "text/plain": [
       "np.float64(5.0)"
      ]
     },
     "execution_count": 31,
     "metadata": {},
     "output_type": "execute_result"
    }
   ],
   "source": [
    "# trimmed mean example\n",
    "from scipy.stats import trim_mean\n",
    "\n",
    "data = [1, 2, 3, 3, 3, 6, 7, 8, 9, 10]\n",
    "# Trim 20% from each end\n",
    "tmean = trim_mean(data, 0.2)\n",
    "print(tmean)\n",
    "# check\n",
    "print(np.mean([3,3,3,6,7,8]))"
   ]
  },
  {
   "cell_type": "code",
   "execution_count": 36,
   "metadata": {},
   "outputs": [
    {
     "name": "stdout",
     "output_type": "stream",
     "text": [
      "Average height: \n",
      "176.21666666666667\n",
      "Trimmed mean: \n",
      "175.94444444444446\n",
      "Average number of facebook connections: \n",
      "289.9642857142857\n",
      "Trimmed mean: \n",
      "268.03846153846155\n"
     ]
    }
   ],
   "source": [
    "# trimmed mean (cut 5% each side)\n",
    "# arithmetic mean\n",
    "from scipy.stats import trim_mean\n",
    "print(\"Average height: \")\n",
    "print(np.mean(d['height']))\n",
    "print(\"Trimmed mean: \")\n",
    "print(trim_mean(d['height'], 0.05))\n",
    "print(\"Average number of facebook connections: \")\n",
    "print(np.mean(d['fb_friends']))\n",
    "print(\"Trimmed mean: \")\n",
    "print(trim_mean(d['fb_friends'].dropna(), 0.05))"
   ]
  },
  {
   "cell_type": "code",
   "execution_count": 43,
   "metadata": {},
   "outputs": [
    {
     "name": "stdout",
     "output_type": "stream",
     "text": [
      "Q1, Q2=median, q3 of height:\n",
      "[168. 176. 184.]\n",
      "Q1, Q2=median, Q3 of the number of FB connections:\n",
      "[ 75. 222. 417.]\n"
     ]
    }
   ],
   "source": [
    "# quantiles / percentiles\n",
    "print(\"Q1, Q2=median, q3 of height:\")\n",
    "print(np.quantile(d['height'], [.25, .5, .75]))\n",
    "print(\"Q1, Q2=median, Q3 of the number of FB connections:\")\n",
    "print(np.quantile(d['fb_friends'].dropna(), [.25, .5, .75]))"
   ]
  },
  {
   "cell_type": "markdown",
   "metadata": {},
   "source": [
    "There are many differing algorithms to calculate quantiles (see: https://bookdown.org/blazej_kochanski/statistics1/centraltendency.html#determining-quantiles-in-practice). It seems that Excel, R, and Python use algorithm number 7 (https://web.mit.edu/~r/current/arch/i386_linux26/lib/R/library/stats/html/quantile.html)."
   ]
  },
  {
   "cell_type": "code",
   "execution_count": 48,
   "metadata": {},
   "outputs": [
    {
     "name": "stdout",
     "output_type": "stream",
     "text": [
      "SD of height:\n",
      "10.23137690862416\n",
      "coefficient of variation:\n",
      "0.058061346308280484\n",
      "SD of the number of FB friends:\n",
      "285.8139232110617\n",
      "coefficient of variation:\n",
      "0.985686642432532\n"
     ]
    }
   ],
   "source": [
    "# Standard deviation ('sample' formula)\n",
    "print(\"SD of height:\")\n",
    "print(np.std(d['height'], ddof=1))\n",
    "print(\"coefficient of variation:\")\n",
    "print(np.std(d['height'], ddof=1)/np.mean(d['height']))\n",
    "print(\"SD of the number of FB friends:\")\n",
    "print(np.std(d['fb_friends'], ddof=1))\n",
    "print(\"coefficient of variation:\")\n",
    "print(np.std(d['fb_friends'], ddof=1)/np.mean(d['fb_friends']))"
   ]
  },
  {
   "cell_type": "code",
   "execution_count": 53,
   "metadata": {},
   "outputs": [
    {
     "name": "stdout",
     "output_type": "stream",
     "text": [
      "Variance of height:\n",
      "104.68107344632767\n",
      "104.68107344632767\n",
      "Variance of the number of FB connections:\n",
      "81689.59870129869\n"
     ]
    }
   ],
   "source": [
    "# Variance ('sample' formula)\n",
    "print(\"Variance of height:\")\n",
    "print(np.var(d['height'], ddof=1))\n",
    "print(np.std(d['height'], ddof=1)**2) #SD^2 - check\n",
    "\n",
    "print(\"Variance of the number of FB connections:\")\n",
    "print(np.var(d['fb_friends'], ddof=1))\n"
   ]
  },
  {
   "cell_type": "code",
   "execution_count": 59,
   "metadata": {},
   "outputs": [
    {
     "name": "stdout",
     "output_type": "stream",
     "text": [
      "16.0\n",
      "342.0\n"
     ]
    }
   ],
   "source": [
    "# IQR\n",
    "from scipy.stats import iqr\n",
    "print(iqr(d['height']))\n",
    "print(iqr(d['fb_friends'].dropna()))"
   ]
  },
  {
   "cell_type": "markdown",
   "metadata": {},
   "source": [
    "Mean absolute difference (MAD) formula:\n",
    "\n",
    "$$\\text{MAD} = \\frac{1}{n}\\sum_{i=1}^n |x_i - \\bar{x}|$$"
   ]
  },
  {
   "cell_type": "code",
   "execution_count": 68,
   "metadata": {},
   "outputs": [
    {
     "name": "stdout",
     "output_type": "stream",
     "text": [
      "MAD of height: \n",
      "8.497777777777776\n",
      "MAD of the number of FB connections: \n",
      "216.24234693877548\n"
     ]
    }
   ],
   "source": [
    "print(\"MAD of height: \")\n",
    "print(np.mean(np.abs(d['height']-np.mean(d['height']))))\n",
    "print(\"MAD of the number of FB connections: \")\n",
    "print(np.mean(np.abs(d['fb_friends']-np.mean(d['fb_friends']))))"
   ]
  },
  {
   "cell_type": "code",
   "execution_count": 73,
   "metadata": {},
   "outputs": [
    {
     "name": "stdout",
     "output_type": "stream",
     "text": [
      "Height - skewness\n",
      "0.38243032414032746\n",
      "Height - kurtosis\n",
      "-0.3409675285397866\n",
      "FB friends - skewness\n",
      "1.3909068422064903\n",
      "kurtosis:\n",
      "1.6654507022012153\n"
     ]
    }
   ],
   "source": [
    "from scipy.stats import skew, kurtosis\n",
    "print('Height - skewness')\n",
    "print(skew(d['height']))\n",
    "print('Height - kurtosis')\n",
    "print(kurtosis(d['height']))\n",
    "\n",
    "print('FB friends - skewness')\n",
    "print(skew(d['fb_friends'].dropna()))\n",
    "print('Kurtosis:')\n",
    "print(kurtosis(d['fb_friends'].dropna()))"
   ]
  }
 ],
 "metadata": {
  "kernelspec": {
   "display_name": "Python 3",
   "language": "python",
   "name": "python3"
  },
  "language_info": {
   "codemirror_mode": {
    "name": "ipython",
    "version": 3
   },
   "file_extension": ".py",
   "mimetype": "text/x-python",
   "name": "python",
   "nbconvert_exporter": "python",
   "pygments_lexer": "ipython3",
   "version": "3.11.5"
  }
 },
 "nbformat": 4,
 "nbformat_minor": 2
}
