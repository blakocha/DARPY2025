{
 "cells": [
  {
   "cell_type": "markdown",
   "metadata": {},
   "source": [
    "# Statistical inference\n",
    "\n",
    "- confidence intervals\n",
    "\n",
    "- hypothesis tests"
   ]
  },
  {
   "cell_type": "markdown",
   "metadata": {},
   "source": [
    "_Example_\n",
    "\n",
    "Confidence interval for the average height of males in the students population. \n",
    "\n",
    "(I assume that the sample collected in the survey is representative for the student population.)"
   ]
  },
  {
   "cell_type": "code",
   "execution_count": 1,
   "metadata": {},
   "outputs": [
    {
     "name": "stdout",
     "output_type": "stream",
     "text": [
      "   height  handedness  right_hand_span  left_hand_span  head_circ eye_colour  \\\n",
      "0     159        0.88             19.0            19.0       54.0       Blue   \n",
      "1     160       -1.00             19.0            20.0       57.0      Green   \n",
      "2     161        0.79             17.0            16.5       57.0      hazel   \n",
      "3     162        0.79             16.0            16.0       57.0       gray   \n",
      "4     162        0.79             16.0            16.0       54.0      Brown   \n",
      "\n",
      "   gender  siblings  movies  soda   bedtime       fb_freq  fb_friends  \\\n",
      "0  Female         2     3.0   7.0  02:00:00    once a day       135.0   \n",
      "1  Female         2     0.5   2.0  04:30:00             0         1.0   \n",
      "2  Female         3     3.0   2.0  23:50:00   once a week       354.0   \n",
      "3  Female         2     0.0   2.0  23:10:00  almost never       192.0   \n",
      "4  Female         2     1.0   3.0  00:00:00         never         1.0   \n",
      "\n",
      "                  stat_likert  \n",
      "0  Neither agree nor disagree  \n",
      "1              Somewhat agree  \n",
      "2              Somewhat agree  \n",
      "3  Neither agree nor disagree  \n",
      "4  Neither agree nor disagree  \n"
     ]
    }
   ],
   "source": [
    "import pandas as pd\n",
    "\n",
    "csv_url = \"https://docs.google.com/spreadsheets/d/1H6b5mkq68MeRQyP0Cr2weCpVkzmpR0c2Oi7p147o2a0/export?format=csv\"\n",
    "\n",
    "# Read the sheet into a DataFrame\n",
    "d = pd.read_csv(csv_url)\n",
    "\n",
    "print(d.head())"
   ]
  },
  {
   "cell_type": "code",
   "execution_count": 3,
   "metadata": {},
   "outputs": [
    {
     "name": "stdout",
     "output_type": "stream",
     "text": [
      "36\n",
      "181.91666666666666\n"
     ]
    }
   ],
   "source": [
    "import numpy as np\n",
    "mask = d['gender']==\"Male\"\n",
    "print(np.sum(mask))\n",
    "print(np.mean(d['height'][mask]))"
   ]
  },
  {
   "cell_type": "markdown",
   "metadata": {},
   "source": [
    "(https://bookdown.org/blazej_kochanski/statistics2/ci-mean.html#templates-3)"
   ]
  },
  {
   "cell_type": "code",
   "execution_count": 8,
   "metadata": {},
   "outputs": [
    {
     "name": "stdout",
     "output_type": "stream",
     "text": [
      "ConfidenceInterval(low=np.float64(179.07845998200804), high=np.float64(184.75487335132527))\n"
     ]
    }
   ],
   "source": [
    "import numpy as np\n",
    "from scipy import stats\n",
    "\n",
    "data = d['height'][mask]\n",
    "test_result = stats.ttest_1samp(data, popmean=np.mean(data))\n",
    "conf_int = test_result.confidence_interval(0.95)\n",
    "print(conf_int)"
   ]
  },
  {
   "cell_type": "markdown",
   "metadata": {},
   "source": [
    "Based on our sample (with n=36 observations) we find that the 95-percent confidence interval for the population mean is (179.08; 184.75). "
   ]
  },
  {
   "cell_type": "code",
   "execution_count": 13,
   "metadata": {},
   "outputs": [
    {
     "name": "stdout",
     "output_type": "stream",
     "text": [
      "PearsonRResult(statistic=np.float64(0.5689345917702635), pvalue=np.float64(2.582305399535021e-06))\n"
     ]
    }
   ],
   "source": [
    "# correlation between the height and head size in the sample:\n",
    "\n",
    "from scipy import stats\n",
    "mask2 = d['head_circ'].notna()\n",
    "r = stats.pearsonr(d['height'][mask2], d['head_circ'][mask2])\n",
    "print(r)"
   ]
  },
  {
   "cell_type": "markdown",
   "metadata": {},
   "source": [
    "(https://bookdown.org/blazej_kochanski/statistics2/other.html)"
   ]
  },
  {
   "cell_type": "code",
   "execution_count": 15,
   "metadata": {},
   "outputs": [
    {
     "name": "stdout",
     "output_type": "stream",
     "text": [
      "Test:\n",
      "\n",
      " PearsonRResult(statistic=np.float64(0.5689345917702635), pvalue=np.float64(2.582305399535021e-06)) \n",
      "\n",
      " Confidence interval: \n",
      "\n",
      " [0.36620642 0.72010224]\n",
      "ConfidenceInterval(low=np.float64(0.366206417384293), high=np.float64(0.7201022444623262))\n"
     ]
    }
   ],
   "source": [
    "import scipy.stats as stats\n",
    "import numpy as np\n",
    "import math as math\n",
    "\n",
    "x = d['height'][mask2]\n",
    "y = d['head_circ'][mask2]\n",
    "\n",
    "correlation_test = stats.pearsonr(x, y)\n",
    "\n",
    "# Confidence interval:\n",
    "ci_tmp = stats.norm.interval(0.95, \n",
    "  loc=0.5*math.log((1+correlation_test[0])/(1-correlation_test[0])), \n",
    "  scale=1/((len(x)-3)**0.5))\n",
    "confidence_interval = (np.exp(2*np.array(ci_tmp))-1)/(np.exp(2*np.array(ci_tmp))+1)\n",
    "\n",
    "print('Test:\\n\\n', correlation_test, '\\n\\n Confidence interval: \\n\\n', confidence_interval)\n",
    "\n",
    "print(r.confidence_interval(0.95))"
   ]
  },
  {
   "cell_type": "markdown",
   "metadata": {},
   "source": [
    "The 95-percent confidence interval for the population correlation coefficient $\\rho$ is (0.366; 0.720)."
   ]
  },
  {
   "cell_type": "code",
   "execution_count": 18,
   "metadata": {},
   "outputs": [
    {
     "name": "stdout",
     "output_type": "stream",
     "text": [
      "gender  Female  Male\n",
      "eye2                \n",
      "Blue         8    13\n",
      "Brown        9    11\n",
      "Green        3     9\n",
      "Other        4     3\n",
      "0.19245008972987526\n"
     ]
    }
   ],
   "source": [
    "import numpy as np\n",
    "import pandas as pd\n",
    "from scipy.stats import chi2_contingency\n",
    "d['eye2'] = \"Other\"\n",
    "d.loc[d['eye_colour']==\"Brown\", 'eye2'] = \"Brown\"\n",
    "d.loc[d['eye_colour']==\"Blue\", 'eye2'] = \"Blue\"\n",
    "d.loc[d['eye_colour']==\"Green\", 'eye2'] = \"Green\"\n",
    "print(pd.crosstab(d['eye2'], d['gender']))\n",
    "def cramers_v(x, y):\n",
    "    \"\"\"\n",
    "    Compute Cramér's V statistic for categorical-categorical association.\n",
    "\n",
    "    Parameters:\n",
    "        x (pd.Series): Categorical variable.\n",
    "        y (pd.Series): Categorical variable.\n",
    "\n",
    "    Returns:\n",
    "        float: Cramér's V value between 0 and 1.\n",
    "    \"\"\"\n",
    "    # Create a contingency table\n",
    "    cont_table = pd.crosstab(x, y)\n",
    "\n",
    "    # Compute chi-squared statistic\n",
    "    chi2 = chi2_contingency(cont_table)[0]\n",
    "\n",
    "    # Get sample size and minimum dimension\n",
    "    n = cont_table.sum().sum()\n",
    "    k = min(cont_table.shape) - 1\n",
    "\n",
    "    # Compute Cramér's V\n",
    "    v = np.sqrt(chi2 / (n * k))\n",
    "    return v\n",
    "\n",
    "print(cramers_v(d['eye2'], d['gender']))"
   ]
  },
  {
   "cell_type": "code",
   "execution_count": 61,
   "metadata": {},
   "outputs": [
    {
     "data": {
      "text/plain": [
       "(array([ 24., 105., 166., 208., 234., 141.,  80.,  31.,   9.,   2.]),\n",
       " array([0.0297509 , 0.09121016, 0.15266942, 0.21412868, 0.27558795,\n",
       "        0.33704721, 0.39850647, 0.45996573, 0.52142499, 0.58288426,\n",
       "        0.64434352]),\n",
       " <BarContainer object of 10 artists>)"
      ]
     },
     "execution_count": 61,
     "metadata": {},
     "output_type": "execute_result"
    },
    {
     "data": {
      "image/png": "[encoded data removed]",
      "text/plain": [
       "<Figure size 640x480 with 1 Axes>"
      ]
     },
     "metadata": {},
     "output_type": "display_data"
    }
   ],
   "source": [
    "nsim = 1000\n",
    "n=len(d['eye2'])\n",
    "def sim():\n",
    "    indices = np.random.choice(n, n, replace=True)\n",
    "    bootstrap_sample = d.iloc[indices]\n",
    "    return(cramers_v(bootstrap_sample['eye2'], bootstrap_sample['gender']))\n",
    "\n",
    "results = [sim() for _ in range(nsim)]\n",
    "\n",
    "import matplotlib.pyplot as plt\n",
    "plt.hist(results)"
   ]
  },
  {
   "cell_type": "code",
   "execution_count": 62,
   "metadata": {},
   "outputs": [
    {
     "data": {
      "text/plain": [
       "array([0.09447115, 0.48302212])"
      ]
     },
     "execution_count": 62,
     "metadata": {},
     "output_type": "execute_result"
    }
   ],
   "source": [
    "np.quantile(results, [0.025, 0.975])"
   ]
  },
  {
   "cell_type": "code",
   "execution_count": null,
   "metadata": {},
   "outputs": [],
   "source": []
  }
 ],
 "metadata": {
  "kernelspec": {
   "display_name": "Python 3",
   "language": "python",
   "name": "python3"
  },
  "language_info": {
   "codemirror_mode": {
    "name": "ipython",
    "version": 3
   },
   "file_extension": ".py",
   "mimetype": "text/x-python",
   "name": "python",
   "nbconvert_exporter": "python",
   "pygments_lexer": "ipython3",
   "version": "3.12.3"
  }
 },
 "nbformat": 4,
 "nbformat_minor": 2
}
