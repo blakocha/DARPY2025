{
 "cells": [
  {
   "cell_type": "markdown",
   "metadata": {},
   "source": [
    "# Statistical inference\n",
    "\n",
    "- confidence intervals\n",
    "\n",
    "- hypothesis tests"
   ]
  },
  {
   "cell_type": "markdown",
   "metadata": {},
   "source": [
    "_Example_\n",
    "\n",
    "Confidence interval for the average height of males in the students population. \n",
    "\n",
    "(I assume that the sample collected in the survey is representative for the student population.)"
   ]
  },
  {
   "cell_type": "code",
   "execution_count": 1,
   "metadata": {},
   "outputs": [
    {
     "name": "stdout",
     "output_type": "stream",
     "text": [
      "   height  handedness  right_hand_span  left_hand_span  head_circ eye_colour  \\\n",
      "0     159        0.88             19.0            19.0       54.0       Blue   \n",
      "1     160       -1.00             19.0            20.0       57.0      Green   \n",
      "2     161        0.79             17.0            16.5       57.0      hazel   \n",
      "3     162        0.79             16.0            16.0       57.0       gray   \n",
      "4     162        0.79             16.0            16.0       54.0      Brown   \n",
      "\n",
      "   gender  siblings  movies  soda   bedtime       fb_freq  fb_friends  \\\n",
      "0  Female         2     3.0   7.0  02:00:00    once a day       135.0   \n",
      "1  Female         2     0.5   2.0  04:30:00             0         1.0   \n",
      "2  Female         3     3.0   2.0  23:50:00   once a week       354.0   \n",
      "3  Female         2     0.0   2.0  23:10:00  almost never       192.0   \n",
      "4  Female         2     1.0   3.0  00:00:00         never         1.0   \n",
      "\n",
      "                  stat_likert  \n",
      "0  Neither agree nor disagree  \n",
      "1              Somewhat agree  \n",
      "2              Somewhat agree  \n",
      "3  Neither agree nor disagree  \n",
      "4  Neither agree nor disagree  \n"
     ]
    }
   ],
   "source": [
    "import pandas as pd\n",
    "\n",
    "csv_url = \"https://docs.google.com/spreadsheets/d/1H6b5mkq68MeRQyP0Cr2weCpVkzmpR0c2Oi7p147o2a0/export?format=csv\"\n",
    "\n",
    "# Read the sheet into a DataFrame\n",
    "d = pd.read_csv(csv_url)\n",
    "\n",
    "print(d.head())"
   ]
  },
  {
   "cell_type": "code",
   "execution_count": 3,
   "metadata": {},
   "outputs": [
    {
     "name": "stdout",
     "output_type": "stream",
     "text": [
      "36\n",
      "181.91666666666666\n"
     ]
    }
   ],
   "source": [
    "import numpy as np\n",
    "mask = d['gender']==\"Male\"\n",
    "print(np.sum(mask))\n",
    "print(np.mean(d['height'][mask]))"
   ]
  },
  {
   "cell_type": "markdown",
   "metadata": {},
   "source": [
    "(https://bookdown.org/blazej_kochanski/statistics2/ci-mean.html#templates-3)"
   ]
  },
  {
   "cell_type": "markdown",
   "metadata": {},
   "source": []
  }
 ],
 "metadata": {
  "kernelspec": {
   "display_name": "Python 3",
   "language": "python",
   "name": "python3"
  },
  "language_info": {
   "codemirror_mode": {
    "name": "ipython",
    "version": 3
   },
   "file_extension": ".py",
   "mimetype": "text/x-python",
   "name": "python",
   "nbconvert_exporter": "python",
   "pygments_lexer": "ipython3",
   "version": "3.12.3"
  }
 },
 "nbformat": 4,
 "nbformat_minor": 2
}
